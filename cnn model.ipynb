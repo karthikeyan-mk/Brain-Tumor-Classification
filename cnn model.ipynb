{
 "cells": [
  {
   "cell_type": "code",
   "execution_count": 1,
   "metadata": {},
   "outputs": [],
   "source": [
    "import tensorflow as tf\n",
    "import numpy as np\n",
    "import pandas as pd\n",
    "import matplotlib.pyplot as plt\n",
    "%matplotlib inline"
   ]
  },
  {
   "cell_type": "code",
   "execution_count": 2,
   "metadata": {},
   "outputs": [
    {
     "name": "stdout",
     "output_type": "stream",
     "text": [
      "WARNING:tensorflow:From <ipython-input-2-17bb7203622b>:1: is_gpu_available (from tensorflow.python.framework.test_util) is deprecated and will be removed in a future version.\n",
      "Instructions for updating:\n",
      "Use `tf.config.list_physical_devices('GPU')` instead.\n"
     ]
    },
    {
     "data": {
      "text/plain": [
       "True"
      ]
     },
     "execution_count": 2,
     "metadata": {},
     "output_type": "execute_result"
    }
   ],
   "source": [
    "tf.test.is_gpu_available()"
   ]
  },
  {
   "cell_type": "code",
   "execution_count": 3,
   "metadata": {},
   "outputs": [],
   "source": [
    "x_train = np.load(\"train_data.npy\")"
   ]
  },
  {
   "cell_type": "code",
   "execution_count": 4,
   "metadata": {},
   "outputs": [],
   "source": [
    "x_test = np.load(\"test_data.npy\")"
   ]
  },
  {
   "cell_type": "code",
   "execution_count": 5,
   "metadata": {},
   "outputs": [
    {
     "name": "stdout",
     "output_type": "stream",
     "text": [
      "(2672, 224, 224, 3)\n",
      "(2348, 224, 224, 3)\n"
     ]
    }
   ],
   "source": [
    "print(x_train.shape)\n",
    "print(x_test.shape)"
   ]
  },
  {
   "cell_type": "code",
   "execution_count": 8,
   "metadata": {},
   "outputs": [],
   "source": [
    "y_train = pd.read_csv(\"train_label.csv\")\n",
    "y_test = pd.read_csv(\"test_label.csv\")"
   ]
  },
  {
   "cell_type": "code",
   "execution_count": 9,
   "metadata": {},
   "outputs": [
    {
     "data": {
      "text/html": [
       "<div>\n",
       "<style scoped>\n",
       "    .dataframe tbody tr th:only-of-type {\n",
       "        vertical-align: middle;\n",
       "    }\n",
       "\n",
       "    .dataframe tbody tr th {\n",
       "        vertical-align: top;\n",
       "    }\n",
       "\n",
       "    .dataframe thead th {\n",
       "        text-align: right;\n",
       "    }\n",
       "</style>\n",
       "<table border=\"1\" class=\"dataframe\">\n",
       "  <thead>\n",
       "    <tr style=\"text-align: right;\">\n",
       "      <th></th>\n",
       "      <th>Classes</th>\n",
       "    </tr>\n",
       "  </thead>\n",
       "  <tbody>\n",
       "    <tr>\n",
       "      <th>0</th>\n",
       "      <td>Glioma</td>\n",
       "    </tr>\n",
       "    <tr>\n",
       "      <th>1</th>\n",
       "      <td>Glioma</td>\n",
       "    </tr>\n",
       "    <tr>\n",
       "      <th>2</th>\n",
       "      <td>Glioma</td>\n",
       "    </tr>\n",
       "    <tr>\n",
       "      <th>3</th>\n",
       "      <td>Glioma</td>\n",
       "    </tr>\n",
       "    <tr>\n",
       "      <th>4</th>\n",
       "      <td>Glioma</td>\n",
       "    </tr>\n",
       "  </tbody>\n",
       "</table>\n",
       "</div>"
      ],
      "text/plain": [
       "  Classes\n",
       "0  Glioma\n",
       "1  Glioma\n",
       "2  Glioma\n",
       "3  Glioma\n",
       "4  Glioma"
      ]
     },
     "execution_count": 9,
     "metadata": {},
     "output_type": "execute_result"
    }
   ],
   "source": [
    "y_train.head()"
   ]
  },
  {
   "cell_type": "code",
   "execution_count": 10,
   "metadata": {},
   "outputs": [
    {
     "data": {
      "text/html": [
       "<div>\n",
       "<style scoped>\n",
       "    .dataframe tbody tr th:only-of-type {\n",
       "        vertical-align: middle;\n",
       "    }\n",
       "\n",
       "    .dataframe tbody tr th {\n",
       "        vertical-align: top;\n",
       "    }\n",
       "\n",
       "    .dataframe thead th {\n",
       "        text-align: right;\n",
       "    }\n",
       "</style>\n",
       "<table border=\"1\" class=\"dataframe\">\n",
       "  <thead>\n",
       "    <tr style=\"text-align: right;\">\n",
       "      <th></th>\n",
       "      <th>Classes</th>\n",
       "    </tr>\n",
       "  </thead>\n",
       "  <tbody>\n",
       "    <tr>\n",
       "      <th>0</th>\n",
       "      <td>Glioma</td>\n",
       "    </tr>\n",
       "    <tr>\n",
       "      <th>1</th>\n",
       "      <td>Glioma</td>\n",
       "    </tr>\n",
       "    <tr>\n",
       "      <th>2</th>\n",
       "      <td>Glioma</td>\n",
       "    </tr>\n",
       "    <tr>\n",
       "      <th>3</th>\n",
       "      <td>Glioma</td>\n",
       "    </tr>\n",
       "    <tr>\n",
       "      <th>4</th>\n",
       "      <td>Glioma</td>\n",
       "    </tr>\n",
       "  </tbody>\n",
       "</table>\n",
       "</div>"
      ],
      "text/plain": [
       "  Classes\n",
       "0  Glioma\n",
       "1  Glioma\n",
       "2  Glioma\n",
       "3  Glioma\n",
       "4  Glioma"
      ]
     },
     "execution_count": 10,
     "metadata": {},
     "output_type": "execute_result"
    }
   ],
   "source": [
    "y_test.head()"
   ]
  },
  {
   "cell_type": "code",
   "execution_count": 11,
   "metadata": {},
   "outputs": [],
   "source": [
    "y_train=y_train.replace(to_replace=\"Negative\",value=3)\n",
    "y_train=y_train.replace(to_replace=\"Meningioma\",value=1)\n",
    "y_train=y_train.replace(to_replace=\"Glioma\",value=0)\n",
    "y_train=y_train.replace(to_replace=\"Pituitary\",value=2)"
   ]
  },
  {
   "cell_type": "code",
   "execution_count": 12,
   "metadata": {},
   "outputs": [
    {
     "data": {
      "text/plain": [
       "Classes    3\n",
       "Name: 1222, dtype: int64"
      ]
     },
     "execution_count": 12,
     "metadata": {},
     "output_type": "execute_result"
    }
   ],
   "source": [
    "y_train.iloc[1222]"
   ]
  },
  {
   "cell_type": "code",
   "execution_count": 13,
   "metadata": {},
   "outputs": [
    {
     "name": "stdout",
     "output_type": "stream",
     "text": [
      "(2672, 4)\n"
     ]
    }
   ],
   "source": [
    "from tensorflow.keras.utils import to_categorical\n",
    "y_train =to_categorical(y_train, num_classes=4)\n",
    "print(y_train.shape)"
   ]
  },
  {
   "cell_type": "code",
   "execution_count": 14,
   "metadata": {},
   "outputs": [
    {
     "data": {
      "text/plain": [
       "(2672, 4)"
      ]
     },
     "execution_count": 14,
     "metadata": {},
     "output_type": "execute_result"
    }
   ],
   "source": [
    "y_train.shape"
   ]
  },
  {
   "cell_type": "code",
   "execution_count": 15,
   "metadata": {},
   "outputs": [],
   "source": [
    "y_test=y_test.replace(to_replace=\"Negative\",value=3)\n",
    "y_test=y_test.replace(to_replace=\"Meningioma\",value=1)\n",
    "y_test=y_test.replace(to_replace=\"Glioma\",value=0)\n",
    "y_test=y_test.replace(to_replace=\"Pituitary\",value=2)"
   ]
  },
  {
   "cell_type": "code",
   "execution_count": 16,
   "metadata": {},
   "outputs": [
    {
     "data": {
      "text/plain": [
       "Classes    2\n",
       "Name: 2000, dtype: int64"
      ]
     },
     "execution_count": 16,
     "metadata": {},
     "output_type": "execute_result"
    }
   ],
   "source": [
    "y_test.iloc[2000]"
   ]
  },
  {
   "cell_type": "code",
   "execution_count": 17,
   "metadata": {},
   "outputs": [],
   "source": [
    "y_test = to_categorical(y_test, num_classes=4)"
   ]
  },
  {
   "cell_type": "code",
   "execution_count": 18,
   "metadata": {},
   "outputs": [
    {
     "data": {
      "text/plain": [
       "(2348, 4)"
      ]
     },
     "execution_count": 18,
     "metadata": {},
     "output_type": "execute_result"
    }
   ],
   "source": [
    "y_test.shape"
   ]
  },
  {
   "cell_type": "code",
   "execution_count": 19,
   "metadata": {},
   "outputs": [
    {
     "data": {
      "text/plain": [
       "numpy.ndarray"
      ]
     },
     "execution_count": 19,
     "metadata": {},
     "output_type": "execute_result"
    }
   ],
   "source": [
    "type(y_test)"
   ]
  },
  {
   "cell_type": "code",
   "execution_count": 20,
   "metadata": {},
   "outputs": [],
   "source": [
    "from tensorflow.keras.layers import Input, Activation, Dense, Conv2D, BatchNormalization, MaxPooling2D, Flatten\n",
    "from tensorflow.keras.models import Sequential\n",
    "from tensorflow.keras.models import Model\n",
    "from tensorflow.keras.callbacks import ModelCheckpoint, EarlyStopping\n",
    "from tensorflow.keras import optimizers\n",
    "import matplotlib.image  as mpimg\n",
    "from random import randint\n",
    "from sklearn.utils import shuffle"
   ]
  },
  {
   "cell_type": "code",
   "execution_count": 21,
   "metadata": {},
   "outputs": [],
   "source": [
    "from tensorflow.keras.models import load_model\n",
    "model1 = load_model(\"cnn_model.h5\")"
   ]
  },
  {
   "cell_type": "code",
   "execution_count": 100,
   "metadata": {},
   "outputs": [],
   "source": [
    "model1 = Sequential()\n",
    "\n",
    "\n",
    "model1.add(Conv2D(16, kernel_size=(3,3), padding='same', input_shape=(224, 224, 3), activation='tanh'))\n",
    "model1.add(Conv2D(16, kernel_size=(3,3), padding='same', activation='tanh'))\n",
    "model1.add(MaxPooling2D(pool_size=(2,2)))\n",
    "model1.add(Dropout(0.2))\n",
    "\n",
    "model1.add(Conv2D(32, kernel_size=(3,3), padding='same', activation='relu'))\n",
    "model1.add(Conv2D(32, kernel_size=(3,3), padding='same', activation='relu'))\n",
    "model1.add(MaxPooling2D(pool_size=(2,2)))\n",
    "model1.add(Dropout(0.25))\n",
    "\n",
    "model1.add(Conv2D(64, kernel_size=(3,3), padding='same', activation='relu'))\n",
    "model1.add(Conv2D(64, kernel_size=(3,3), padding='same', activation='relu'))\n",
    "model1.add(MaxPooling2D(pool_size=(2,2)))\n",
    "model1.add(Dropout(0.25))\n",
    "\n",
    "model1.add(Conv2D(128, kernel_size=(3,3), padding='same', activation='relu'))\n",
    "model1.add(MaxPooling2D(pool_size=(2,2)))\n",
    "model1.add(Dropout(0.4))\n",
    "\n",
    "model1.add(Conv2D(256, kernel_size=(3,3), padding='same', activation='relu'))\n",
    "model1.add(MaxPooling2D(pool_size=(2,2)))\n",
    "model1.add(Dropout(0.5))\n",
    "\n",
    "model1.add(Flatten())\n",
    "model1.add(Dense(units=256, activation='relu', kernel_initializer='he_uniform'))\n",
    "model1.add(BatchNormalization())\n",
    "model1.add(Dropout(0.5))\n",
    "model1.add(Dense(units=4, activation='sigmoid'))"
   ]
  },
  {
   "cell_type": "code",
   "execution_count": 101,
   "metadata": {},
   "outputs": [
    {
     "name": "stdout",
     "output_type": "stream",
     "text": [
      "Model: \"sequential_12\"\n",
      "_________________________________________________________________\n",
      "Layer (type)                 Output Shape              Param #   \n",
      "=================================================================\n",
      "conv2d_72 (Conv2D)           (None, 224, 224, 16)      448       \n",
      "_________________________________________________________________\n",
      "conv2d_73 (Conv2D)           (None, 224, 224, 16)      2320      \n",
      "_________________________________________________________________\n",
      "max_pooling2d_60 (MaxPooling (None, 112, 112, 16)      0         \n",
      "_________________________________________________________________\n",
      "dropout_72 (Dropout)         (None, 112, 112, 16)      0         \n",
      "_________________________________________________________________\n",
      "conv2d_74 (Conv2D)           (None, 112, 112, 32)      4640      \n",
      "_________________________________________________________________\n",
      "conv2d_75 (Conv2D)           (None, 112, 112, 32)      9248      \n",
      "_________________________________________________________________\n",
      "max_pooling2d_61 (MaxPooling (None, 56, 56, 32)        0         \n",
      "_________________________________________________________________\n",
      "dropout_73 (Dropout)         (None, 56, 56, 32)        0         \n",
      "_________________________________________________________________\n",
      "conv2d_76 (Conv2D)           (None, 56, 56, 64)        18496     \n",
      "_________________________________________________________________\n",
      "conv2d_77 (Conv2D)           (None, 56, 56, 64)        36928     \n",
      "_________________________________________________________________\n",
      "max_pooling2d_62 (MaxPooling (None, 28, 28, 64)        0         \n",
      "_________________________________________________________________\n",
      "dropout_74 (Dropout)         (None, 28, 28, 64)        0         \n",
      "_________________________________________________________________\n",
      "conv2d_78 (Conv2D)           (None, 28, 28, 128)       73856     \n",
      "_________________________________________________________________\n",
      "max_pooling2d_63 (MaxPooling (None, 14, 14, 128)       0         \n",
      "_________________________________________________________________\n",
      "dropout_75 (Dropout)         (None, 14, 14, 128)       0         \n",
      "_________________________________________________________________\n",
      "conv2d_79 (Conv2D)           (None, 14, 14, 256)       295168    \n",
      "_________________________________________________________________\n",
      "max_pooling2d_64 (MaxPooling (None, 7, 7, 256)         0         \n",
      "_________________________________________________________________\n",
      "dropout_76 (Dropout)         (None, 7, 7, 256)         0         \n",
      "_________________________________________________________________\n",
      "flatten_12 (Flatten)         (None, 12544)             0         \n",
      "_________________________________________________________________\n",
      "dense_24 (Dense)             (None, 256)               3211520   \n",
      "_________________________________________________________________\n",
      "batch_normalization_22 (Batc (None, 256)               1024      \n",
      "_________________________________________________________________\n",
      "dropout_77 (Dropout)         (None, 256)               0         \n",
      "_________________________________________________________________\n",
      "dense_25 (Dense)             (None, 4)                 1028      \n",
      "=================================================================\n",
      "Total params: 3,654,676\n",
      "Trainable params: 3,654,164\n",
      "Non-trainable params: 512\n",
      "_________________________________________________________________\n"
     ]
    }
   ],
   "source": [
    "model1.summary()"
   ]
  },
  {
   "cell_type": "code",
   "execution_count": 87,
   "metadata": {},
   "outputs": [],
   "source": [
    "from tensorflow.keras.layers import Dropout\n",
    "model = Sequential()\n",
    "\n",
    "\n",
    "model.add(Conv2D(16, kernel_size=(3,3), padding='same', input_shape=(224, 224, 3), activation='relu'))\n",
    "model.add(Conv2D(16, kernel_size=(3,3), padding='same', activation='relu'))\n",
    "model.add(MaxPooling2D(pool_size=(2,2)))\n",
    "model.add(Dropout(0.2))\n",
    "\n",
    "model.add(Conv2D(32, kernel_size=(3,3), padding='same', activation='relu'))\n",
    "model.add(MaxPooling2D(pool_size=(2,2)))\n",
    "model.add(Dropout(0.25))\n",
    "\n",
    "model.add(Conv2D(64, kernel_size=(3,3), padding='same', activation='relu'))\n",
    "model.add(MaxPooling2D(pool_size=(2,2)))\n",
    "model.add(Dropout(0.25))\n",
    "\n",
    "model.add(Conv2D(128, kernel_size=(3,3), padding='same', activation='relu'))\n",
    "model.add(MaxPooling2D(pool_size=(2,2)))\n",
    "model.add(Dropout(0.25))\n",
    "\n",
    "model.add(Conv2D(256, kernel_size=(3,3), padding='same', activation='relu'))\n",
    "model.add(MaxPooling2D(pool_size=(2,2)))\n",
    "model.add(Dropout(0.5))\n",
    "\n",
    "model.add(Flatten())\n",
    "model.add(Dense(units=256, activation='relu', kernel_initializer='he_uniform'))\n",
    "model.add(BatchNormalization())\n",
    "model.add(Dropout(0.5))\n",
    "model.add(Dense(units=4, activation='sigmoid'))"
   ]
  },
  {
   "cell_type": "code",
   "execution_count": 88,
   "metadata": {},
   "outputs": [
    {
     "name": "stdout",
     "output_type": "stream",
     "text": [
      "Model: \"sequential_11\"\n",
      "_________________________________________________________________\n",
      "Layer (type)                 Output Shape              Param #   \n",
      "=================================================================\n",
      "conv2d_66 (Conv2D)           (None, 224, 224, 16)      448       \n",
      "_________________________________________________________________\n",
      "conv2d_67 (Conv2D)           (None, 224, 224, 16)      2320      \n",
      "_________________________________________________________________\n",
      "max_pooling2d_55 (MaxPooling (None, 112, 112, 16)      0         \n",
      "_________________________________________________________________\n",
      "dropout_66 (Dropout)         (None, 112, 112, 16)      0         \n",
      "_________________________________________________________________\n",
      "conv2d_68 (Conv2D)           (None, 112, 112, 32)      4640      \n",
      "_________________________________________________________________\n",
      "max_pooling2d_56 (MaxPooling (None, 56, 56, 32)        0         \n",
      "_________________________________________________________________\n",
      "dropout_67 (Dropout)         (None, 56, 56, 32)        0         \n",
      "_________________________________________________________________\n",
      "conv2d_69 (Conv2D)           (None, 56, 56, 64)        18496     \n",
      "_________________________________________________________________\n",
      "max_pooling2d_57 (MaxPooling (None, 28, 28, 64)        0         \n",
      "_________________________________________________________________\n",
      "dropout_68 (Dropout)         (None, 28, 28, 64)        0         \n",
      "_________________________________________________________________\n",
      "conv2d_70 (Conv2D)           (None, 28, 28, 128)       73856     \n",
      "_________________________________________________________________\n",
      "max_pooling2d_58 (MaxPooling (None, 14, 14, 128)       0         \n",
      "_________________________________________________________________\n",
      "dropout_69 (Dropout)         (None, 14, 14, 128)       0         \n",
      "_________________________________________________________________\n",
      "conv2d_71 (Conv2D)           (None, 14, 14, 256)       295168    \n",
      "_________________________________________________________________\n",
      "max_pooling2d_59 (MaxPooling (None, 7, 7, 256)         0         \n",
      "_________________________________________________________________\n",
      "dropout_70 (Dropout)         (None, 7, 7, 256)         0         \n",
      "_________________________________________________________________\n",
      "flatten_11 (Flatten)         (None, 12544)             0         \n",
      "_________________________________________________________________\n",
      "dense_22 (Dense)             (None, 256)               3211520   \n",
      "_________________________________________________________________\n",
      "batch_normalization_21 (Batc (None, 256)               1024      \n",
      "_________________________________________________________________\n",
      "dropout_71 (Dropout)         (None, 256)               0         \n",
      "_________________________________________________________________\n",
      "dense_23 (Dense)             (None, 4)                 1028      \n",
      "=================================================================\n",
      "Total params: 3,608,500\n",
      "Trainable params: 3,607,988\n",
      "Non-trainable params: 512\n",
      "_________________________________________________________________\n"
     ]
    }
   ],
   "source": [
    "model.summary()"
   ]
  },
  {
   "cell_type": "code",
   "execution_count": 89,
   "metadata": {},
   "outputs": [],
   "source": [
    "model.compile(optimizer=\"RMSprop\",\n",
    "              loss='categorical_crossentropy', metrics=[\"accuracy\"])"
   ]
  },
  {
   "cell_type": "code",
   "execution_count": 91,
   "metadata": {},
   "outputs": [],
   "source": [
    "BATCH_SIZE = 16\n",
    "EPOCHS = 100\n",
    "\n",
    "earlystop = EarlyStopping(monitor=\"val_accuracy\",\n",
    "                          patience=50,\n",
    "                          verbose=1,\n",
    "                          mode='max',\n",
    "                          restore_best_weights=True)"
   ]
  },
  {
   "cell_type": "code",
   "execution_count": 90,
   "metadata": {
    "scrolled": true
   },
   "outputs": [
    {
     "name": "stdout",
     "output_type": "stream",
     "text": [
      "Train on 2672 samples, validate on 2348 samples\n",
      "Epoch 1/100\n",
      "2672/2672 [==============================] - 22s 8ms/sample - loss: 0.7983 - accuracy: 0.7032 - val_loss: 1.1473 - val_accuracy: 0.3739\n",
      "Epoch 2/100\n",
      "2672/2672 [==============================] - 19s 7ms/sample - loss: 0.4708 - accuracy: 0.8376 - val_loss: 1.7775 - val_accuracy: 0.5549\n",
      "Epoch 3/100\n",
      "2672/2672 [==============================] - 19s 7ms/sample - loss: 0.3366 - accuracy: 0.8769 - val_loss: 1.5378 - val_accuracy: 0.4894\n",
      "Epoch 4/100\n",
      "2672/2672 [==============================] - 19s 7ms/sample - loss: 0.2613 - accuracy: 0.9023 - val_loss: 0.7197 - val_accuracy: 0.7091\n",
      "Epoch 5/100\n",
      "2672/2672 [==============================] - 19s 7ms/sample - loss: 0.2042 - accuracy: 0.9274 - val_loss: 0.7922 - val_accuracy: 0.7564\n",
      "Epoch 6/100\n",
      "2672/2672 [==============================] - 19s 7ms/sample - loss: 0.1692 - accuracy: 0.9397 - val_loss: 0.7080 - val_accuracy: 0.7764\n",
      "Epoch 7/100\n",
      "2672/2672 [==============================] - 20s 7ms/sample - loss: 0.1504 - accuracy: 0.9457 - val_loss: 0.5301 - val_accuracy: 0.8330\n",
      "Epoch 8/100\n",
      "2672/2672 [==============================] - 19s 7ms/sample - loss: 0.1337 - accuracy: 0.9562 - val_loss: 0.4934 - val_accuracy: 0.8735\n",
      "Epoch 9/100\n",
      "2672/2672 [==============================] - 19s 7ms/sample - loss: 0.1204 - accuracy: 0.9581 - val_loss: 0.5672 - val_accuracy: 0.8228\n",
      "Epoch 10/100\n",
      "2672/2672 [==============================] - 19s 7ms/sample - loss: 0.1163 - accuracy: 0.9637 - val_loss: 0.7034 - val_accuracy: 0.8322\n",
      "Epoch 11/100\n",
      "2672/2672 [==============================] - 20s 7ms/sample - loss: 0.1036 - accuracy: 0.9641 - val_loss: 0.6427 - val_accuracy: 0.8773\n",
      "Epoch 12/100\n",
      "2672/2672 [==============================] - 19s 7ms/sample - loss: 0.0868 - accuracy: 0.9678 - val_loss: 0.6104 - val_accuracy: 0.8505\n",
      "Epoch 13/100\n",
      "2672/2672 [==============================] - 19s 7ms/sample - loss: 0.1010 - accuracy: 0.9671 - val_loss: 0.6152 - val_accuracy: 0.8637\n",
      "Epoch 14/100\n",
      "2672/2672 [==============================] - 19s 7ms/sample - loss: 0.0791 - accuracy: 0.9731 - val_loss: 0.6180 - val_accuracy: 0.8765\n",
      "Epoch 15/100\n",
      "2672/2672 [==============================] - 19s 7ms/sample - loss: 0.0841 - accuracy: 0.9719 - val_loss: 0.6880 - val_accuracy: 0.8710\n",
      "Epoch 16/100\n",
      "2672/2672 [==============================] - 19s 7ms/sample - loss: 0.0708 - accuracy: 0.9779 - val_loss: 0.5999 - val_accuracy: 0.8799\n",
      "Epoch 17/100\n",
      "2672/2672 [==============================] - 19s 7ms/sample - loss: 0.0682 - accuracy: 0.9772 - val_loss: 0.6683 - val_accuracy: 0.8816\n",
      "Epoch 18/100\n",
      "2672/2672 [==============================] - 19s 7ms/sample - loss: 0.0818 - accuracy: 0.9697 - val_loss: 0.6488 - val_accuracy: 0.8880\n",
      "Epoch 19/100\n",
      "2672/2672 [==============================] - 19s 7ms/sample - loss: 0.0600 - accuracy: 0.9813 - val_loss: 0.7063 - val_accuracy: 0.8569\n",
      "Epoch 20/100\n",
      "2672/2672 [==============================] - 19s 7ms/sample - loss: 0.0699 - accuracy: 0.9805 - val_loss: 0.7389 - val_accuracy: 0.8595\n",
      "Epoch 21/100\n",
      "2672/2672 [==============================] - 19s 7ms/sample - loss: 0.0547 - accuracy: 0.9824 - val_loss: 0.6760 - val_accuracy: 0.8795\n",
      "Epoch 22/100\n",
      "2672/2672 [==============================] - 19s 7ms/sample - loss: 0.0455 - accuracy: 0.9876 - val_loss: 0.7186 - val_accuracy: 0.8790\n",
      "Epoch 23/100\n",
      "2672/2672 [==============================] - 19s 7ms/sample - loss: 0.0533 - accuracy: 0.9813 - val_loss: 0.7781 - val_accuracy: 0.8846\n",
      "Epoch 24/100\n",
      "2672/2672 [==============================] - 19s 7ms/sample - loss: 0.0455 - accuracy: 0.9847 - val_loss: 0.7622 - val_accuracy: 0.8773\n",
      "Epoch 25/100\n",
      "2672/2672 [==============================] - 19s 7ms/sample - loss: 0.0593 - accuracy: 0.9805 - val_loss: 0.6640 - val_accuracy: 0.8786\n",
      "Epoch 26/100\n",
      "2672/2672 [==============================] - 19s 7ms/sample - loss: 0.0315 - accuracy: 0.9895 - val_loss: 0.7286 - val_accuracy: 0.8778\n",
      "Epoch 27/100\n",
      "2672/2672 [==============================] - 19s 7ms/sample - loss: 0.0382 - accuracy: 0.9891 - val_loss: 0.6852 - val_accuracy: 0.8654\n",
      "Epoch 28/100\n",
      "2672/2672 [==============================] - 19s 7ms/sample - loss: 0.0434 - accuracy: 0.9873 - val_loss: 0.8696 - val_accuracy: 0.8748\n",
      "Epoch 29/100\n",
      "2672/2672 [==============================] - 19s 7ms/sample - loss: 0.0381 - accuracy: 0.9876 - val_loss: 0.8066 - val_accuracy: 0.8633\n",
      "Epoch 30/100\n",
      "2672/2672 [==============================] - 19s 7ms/sample - loss: 0.0322 - accuracy: 0.9910 - val_loss: 0.6830 - val_accuracy: 0.8905\n",
      "Epoch 31/100\n",
      "2672/2672 [==============================] - 19s 7ms/sample - loss: 0.0293 - accuracy: 0.9891 - val_loss: 0.7664 - val_accuracy: 0.8756\n",
      "Epoch 32/100\n",
      "2672/2672 [==============================] - 19s 7ms/sample - loss: 0.0364 - accuracy: 0.9895 - val_loss: 0.8282 - val_accuracy: 0.8854\n",
      "Epoch 33/100\n",
      "2672/2672 [==============================] - 20s 7ms/sample - loss: 0.0316 - accuracy: 0.9895 - val_loss: 0.8452 - val_accuracy: 0.8765\n",
      "Epoch 34/100\n",
      "2672/2672 [==============================] - 19s 7ms/sample - loss: 0.0357 - accuracy: 0.9884 - val_loss: 0.9024 - val_accuracy: 0.8761\n",
      "Epoch 35/100\n",
      "2672/2672 [==============================] - 19s 7ms/sample - loss: 0.0320 - accuracy: 0.9884 - val_loss: 0.7522 - val_accuracy: 0.8607\n",
      "Epoch 36/100\n",
      "2672/2672 [==============================] - 19s 7ms/sample - loss: 0.0282 - accuracy: 0.9903 - val_loss: 0.8463 - val_accuracy: 0.8748\n",
      "Epoch 37/100\n",
      "2672/2672 [==============================] - 19s 7ms/sample - loss: 0.0384 - accuracy: 0.9884 - val_loss: 0.9960 - val_accuracy: 0.8825\n",
      "Epoch 38/100\n",
      "2672/2672 [==============================] - 19s 7ms/sample - loss: 0.0428 - accuracy: 0.9880 - val_loss: 0.7956 - val_accuracy: 0.8684\n",
      "Epoch 39/100\n",
      "2672/2672 [==============================] - 19s 7ms/sample - loss: 0.0314 - accuracy: 0.9891 - val_loss: 0.8888 - val_accuracy: 0.8795\n",
      "Epoch 40/100\n",
      "2672/2672 [==============================] - 19s 7ms/sample - loss: 0.0450 - accuracy: 0.9869 - val_loss: 0.9834 - val_accuracy: 0.8812\n",
      "Epoch 41/100\n",
      "2672/2672 [==============================] - 19s 7ms/sample - loss: 0.0415 - accuracy: 0.9862 - val_loss: 0.9671 - val_accuracy: 0.8880\n",
      "Epoch 42/100\n",
      "2672/2672 [==============================] - 19s 7ms/sample - loss: 0.0220 - accuracy: 0.9925 - val_loss: 0.8080 - val_accuracy: 0.8816\n",
      "Epoch 43/100\n",
      "2672/2672 [==============================] - 19s 7ms/sample - loss: 0.0304 - accuracy: 0.9903 - val_loss: 0.9221 - val_accuracy: 0.8850\n",
      "Epoch 44/100\n",
      "2672/2672 [==============================] - 19s 7ms/sample - loss: 0.0433 - accuracy: 0.9888 - val_loss: 1.0246 - val_accuracy: 0.8867\n",
      "Epoch 45/100\n",
      "2672/2672 [==============================] - 19s 7ms/sample - loss: 0.0282 - accuracy: 0.9891 - val_loss: 1.0534 - val_accuracy: 0.8846\n",
      "Epoch 46/100\n",
      "2672/2672 [==============================] - 19s 7ms/sample - loss: 0.0346 - accuracy: 0.9914 - val_loss: 0.9467 - val_accuracy: 0.8807\n",
      "Epoch 47/100\n",
      "2672/2672 [==============================] - 19s 7ms/sample - loss: 0.0222 - accuracy: 0.9914 - val_loss: 1.0550 - val_accuracy: 0.8807\n",
      "Epoch 48/100\n",
      "2672/2672 [==============================] - 19s 7ms/sample - loss: 0.0279 - accuracy: 0.9925 - val_loss: 0.9791 - val_accuracy: 0.8786\n",
      "Epoch 49/100\n",
      "2672/2672 [==============================] - 19s 7ms/sample - loss: 0.0321 - accuracy: 0.9891 - val_loss: 0.8145 - val_accuracy: 0.8778\n",
      "Epoch 50/100\n",
      "2672/2672 [==============================] - 19s 7ms/sample - loss: 0.0291 - accuracy: 0.9918 - val_loss: 0.8961 - val_accuracy: 0.8782\n",
      "Epoch 51/100\n",
      "2672/2672 [==============================] - 19s 7ms/sample - loss: 0.0263 - accuracy: 0.9914 - val_loss: 1.1864 - val_accuracy: 0.8748\n",
      "Epoch 52/100\n",
      "2672/2672 [==============================] - 19s 7ms/sample - loss: 0.0403 - accuracy: 0.9891 - val_loss: 1.0030 - val_accuracy: 0.8710\n",
      "Epoch 53/100\n",
      "2672/2672 [==============================] - 19s 7ms/sample - loss: 0.0233 - accuracy: 0.9929 - val_loss: 1.0401 - val_accuracy: 0.8816\n",
      "Epoch 54/100\n",
      "2672/2672 [==============================] - 19s 7ms/sample - loss: 0.0241 - accuracy: 0.9910 - val_loss: 0.8771 - val_accuracy: 0.8807\n",
      "Epoch 55/100\n",
      "2672/2672 [==============================] - 19s 7ms/sample - loss: 0.0253 - accuracy: 0.9906 - val_loss: 0.8980 - val_accuracy: 0.8825\n"
     ]
    },
    {
     "name": "stdout",
     "output_type": "stream",
     "text": [
      "Epoch 56/100\n",
      "2672/2672 [==============================] - 19s 7ms/sample - loss: 0.0225 - accuracy: 0.9940 - val_loss: 0.9636 - val_accuracy: 0.8786\n",
      "Epoch 57/100\n",
      "2672/2672 [==============================] - 19s 7ms/sample - loss: 0.0221 - accuracy: 0.9921 - val_loss: 0.8619 - val_accuracy: 0.8790\n",
      "Epoch 58/100\n",
      "2672/2672 [==============================] - 19s 7ms/sample - loss: 0.0306 - accuracy: 0.9906 - val_loss: 0.7831 - val_accuracy: 0.8863\n",
      "Epoch 59/100\n",
      "2672/2672 [==============================] - 19s 7ms/sample - loss: 0.0343 - accuracy: 0.9903 - val_loss: 0.9563 - val_accuracy: 0.8795\n",
      "Epoch 60/100\n",
      "2672/2672 [==============================] - 19s 7ms/sample - loss: 0.0324 - accuracy: 0.9880 - val_loss: 1.1188 - val_accuracy: 0.8688\n",
      "Epoch 61/100\n",
      "2672/2672 [==============================] - 19s 7ms/sample - loss: 0.0454 - accuracy: 0.9865 - val_loss: 1.1151 - val_accuracy: 0.8803\n",
      "Epoch 62/100\n",
      "2672/2672 [==============================] - 19s 7ms/sample - loss: 0.0238 - accuracy: 0.9910 - val_loss: 0.9399 - val_accuracy: 0.8807\n",
      "Epoch 63/100\n",
      "2672/2672 [==============================] - 19s 7ms/sample - loss: 0.0381 - accuracy: 0.9914 - val_loss: 0.8400 - val_accuracy: 0.8842\n",
      "Epoch 64/100\n",
      "2672/2672 [==============================] - 19s 7ms/sample - loss: 0.0297 - accuracy: 0.9906 - val_loss: 0.8945 - val_accuracy: 0.8846\n",
      "Epoch 65/100\n",
      "2672/2672 [==============================] - 19s 7ms/sample - loss: 0.0364 - accuracy: 0.9895 - val_loss: 1.1545 - val_accuracy: 0.8825\n",
      "Epoch 66/100\n",
      "2672/2672 [==============================] - 19s 7ms/sample - loss: 0.0272 - accuracy: 0.9910 - val_loss: 1.0371 - val_accuracy: 0.8816\n",
      "Epoch 67/100\n",
      "2672/2672 [==============================] - 19s 7ms/sample - loss: 0.0292 - accuracy: 0.9906 - val_loss: 1.0929 - val_accuracy: 0.8837\n",
      "Epoch 68/100\n",
      "2672/2672 [==============================] - 19s 7ms/sample - loss: 0.0185 - accuracy: 0.9966 - val_loss: 0.9511 - val_accuracy: 0.8773\n",
      "Epoch 69/100\n",
      "2672/2672 [==============================] - 19s 7ms/sample - loss: 0.0353 - accuracy: 0.9891 - val_loss: 0.9036 - val_accuracy: 0.8922\n",
      "Epoch 70/100\n",
      "2672/2672 [==============================] - 19s 7ms/sample - loss: 0.0227 - accuracy: 0.9936 - val_loss: 0.9777 - val_accuracy: 0.8688\n",
      "Epoch 71/100\n",
      "2672/2672 [==============================] - 19s 7ms/sample - loss: 0.0226 - accuracy: 0.9921 - val_loss: 1.1223 - val_accuracy: 0.8859\n",
      "Epoch 72/100\n",
      "2672/2672 [==============================] - 19s 7ms/sample - loss: 0.0252 - accuracy: 0.9914 - val_loss: 1.0331 - val_accuracy: 0.8854\n",
      "Epoch 73/100\n",
      "2672/2672 [==============================] - 19s 7ms/sample - loss: 0.0233 - accuracy: 0.9921 - val_loss: 1.0908 - val_accuracy: 0.8846\n",
      "Epoch 74/100\n",
      "2672/2672 [==============================] - 19s 7ms/sample - loss: 0.0280 - accuracy: 0.9929 - val_loss: 1.0690 - val_accuracy: 0.8867\n",
      "Epoch 75/100\n",
      "2672/2672 [==============================] - 19s 7ms/sample - loss: 0.0355 - accuracy: 0.9906 - val_loss: 1.0888 - val_accuracy: 0.8884\n",
      "Epoch 76/100\n",
      "2672/2672 [==============================] - 19s 7ms/sample - loss: 0.0272 - accuracy: 0.9910 - val_loss: 1.0585 - val_accuracy: 0.8748\n",
      "Epoch 77/100\n",
      "2672/2672 [==============================] - 19s 7ms/sample - loss: 0.0245 - accuracy: 0.9891 - val_loss: 1.0920 - val_accuracy: 0.8876\n",
      "Epoch 78/100\n",
      "2672/2672 [==============================] - 19s 7ms/sample - loss: 0.0233 - accuracy: 0.9929 - val_loss: 1.1271 - val_accuracy: 0.8799\n",
      "Epoch 79/100\n",
      "2672/2672 [==============================] - 19s 7ms/sample - loss: 0.0199 - accuracy: 0.9951 - val_loss: 1.1692 - val_accuracy: 0.8846\n",
      "Epoch 80/100\n",
      "2672/2672 [==============================] - 19s 7ms/sample - loss: 0.0346 - accuracy: 0.9910 - val_loss: 0.9399 - val_accuracy: 0.8829\n",
      "Epoch 81/100\n",
      "2672/2672 [==============================] - 19s 7ms/sample - loss: 0.0258 - accuracy: 0.9903 - val_loss: 1.1531 - val_accuracy: 0.8812\n",
      "Epoch 82/100\n",
      "2672/2672 [==============================] - 19s 7ms/sample - loss: 0.0285 - accuracy: 0.9925 - val_loss: 0.8807 - val_accuracy: 0.8786\n",
      "Epoch 83/100\n",
      "2672/2672 [==============================] - 19s 7ms/sample - loss: 0.0294 - accuracy: 0.9895 - val_loss: 1.2160 - val_accuracy: 0.8867\n",
      "Epoch 84/100\n",
      "2672/2672 [==============================] - 19s 7ms/sample - loss: 0.0287 - accuracy: 0.9921 - val_loss: 1.1187 - val_accuracy: 0.8825\n",
      "Epoch 85/100\n",
      "2672/2672 [==============================] - 19s 7ms/sample - loss: 0.0353 - accuracy: 0.9884 - val_loss: 1.0889 - val_accuracy: 0.8807\n",
      "Epoch 86/100\n",
      "2672/2672 [==============================] - 19s 7ms/sample - loss: 0.0361 - accuracy: 0.9899 - val_loss: 1.0326 - val_accuracy: 0.8829\n",
      "Epoch 87/100\n",
      "2672/2672 [==============================] - 19s 7ms/sample - loss: 0.0277 - accuracy: 0.9906 - val_loss: 1.1631 - val_accuracy: 0.8748\n",
      "Epoch 88/100\n",
      "2672/2672 [==============================] - 19s 7ms/sample - loss: 0.0282 - accuracy: 0.9910 - val_loss: 1.1143 - val_accuracy: 0.8778\n",
      "Epoch 89/100\n",
      "2672/2672 [==============================] - 19s 7ms/sample - loss: 0.0279 - accuracy: 0.9891 - val_loss: 1.0244 - val_accuracy: 0.8846\n",
      "Epoch 90/100\n",
      "2672/2672 [==============================] - 19s 7ms/sample - loss: 0.0279 - accuracy: 0.9921 - val_loss: 1.0528 - val_accuracy: 0.8846\n",
      "Epoch 91/100\n",
      "2672/2672 [==============================] - 19s 7ms/sample - loss: 0.0126 - accuracy: 0.9959 - val_loss: 1.1237 - val_accuracy: 0.8803\n",
      "Epoch 92/100\n",
      "2672/2672 [==============================] - 19s 7ms/sample - loss: 0.0287 - accuracy: 0.9899 - val_loss: 1.0868 - val_accuracy: 0.8880\n",
      "Epoch 93/100\n",
      "2672/2672 [==============================] - 19s 7ms/sample - loss: 0.0299 - accuracy: 0.9903 - val_loss: 1.0403 - val_accuracy: 0.8790\n",
      "Epoch 94/100\n",
      "2672/2672 [==============================] - 19s 7ms/sample - loss: 0.0417 - accuracy: 0.9895 - val_loss: 1.0784 - val_accuracy: 0.8859\n",
      "Epoch 95/100\n",
      "2672/2672 [==============================] - 19s 7ms/sample - loss: 0.0308 - accuracy: 0.9899 - val_loss: 1.0887 - val_accuracy: 0.8820\n",
      "Epoch 96/100\n",
      "2672/2672 [==============================] - 19s 7ms/sample - loss: 0.0321 - accuracy: 0.9925 - val_loss: 1.0039 - val_accuracy: 0.8795\n",
      "Epoch 97/100\n",
      "2672/2672 [==============================] - 19s 7ms/sample - loss: 0.0272 - accuracy: 0.9888 - val_loss: 1.0574 - val_accuracy: 0.8867\n",
      "Epoch 98/100\n",
      "2672/2672 [==============================] - 19s 7ms/sample - loss: 0.0353 - accuracy: 0.9884 - val_loss: 1.0172 - val_accuracy: 0.8914\n",
      "Epoch 99/100\n",
      "2672/2672 [==============================] - 19s 7ms/sample - loss: 0.0385 - accuracy: 0.9891 - val_loss: 1.0993 - val_accuracy: 0.8697\n",
      "Epoch 100/100\n",
      "2672/2672 [==============================] - 19s 7ms/sample - loss: 0.0257 - accuracy: 0.9921 - val_loss: 1.1064 - val_accuracy: 0.8833\n"
     ]
    }
   ],
   "source": [
    "history = model.fit(x_train, y_train, \n",
    "                    batch_size=BATCH_SIZE, \n",
    "                    shuffle=True, \n",
    "                    verbose=1, \n",
    "                    validation_data=(x_test, y_test),\n",
    "                    epochs=EPOCHS, callbacks=[earlystop])"
   ]
  },
  {
   "cell_type": "code",
   "execution_count": 92,
   "metadata": {},
   "outputs": [],
   "source": [
    "model.save(\"custom_cnn.h5\")\n",
    "model.save_weights(\"custom_cnn_weights.h5\")"
   ]
  },
  {
   "cell_type": "code",
   "execution_count": 99,
   "metadata": {},
   "outputs": [
    {
     "name": "stdout",
     "output_type": "stream",
     "text": [
      "dict_keys(['loss', 'accuracy', 'val_loss', 'val_accuracy'])\n"
     ]
    },
    {
     "data": {
      "image/png": "[encoded data removed]",
      "text/plain": [
       "<Figure size 432x288 with 1 Axes>"
      ]
     },
     "metadata": {
      "needs_background": "light"
     },
     "output_type": "display_data"
    },
    {
     "data": {
      "image/png": "[encoded data removed]",
      "text/plain": [
       "<Figure size 432x288 with 1 Axes>"
      ]
     },
     "metadata": {
      "needs_background": "light"
     },
     "output_type": "display_data"
    }
   ],
   "source": [
    "print(history.history.keys())\n",
    "\n",
    "plt.plot(history.history['accuracy'])\n",
    "plt.plot(history.history['val_accuracy'])\n",
    "plt.title('model accuracy')\n",
    "plt.ylabel('accuracy')\n",
    "plt.xlabel('epoch')\n",
    "plt.legend(['train', 'test'], loc='upper left')\n",
    "plt.show()\n",
    "\n",
    "plt.plot(history.history['loss'])\n",
    "plt.plot(history.history['val_loss'])\n",
    "plt.title('model loss')\n",
    "plt.ylabel('loss')\n",
    "plt.xlabel('epoch')\n",
    "plt.legend(['train', 'test'], loc='upper left')\n",
    "plt.show()"
   ]
  },
  {
   "cell_type": "code",
   "execution_count": 103,
   "metadata": {},
   "outputs": [],
   "source": [
    "model1.compile(optimizer=\"RMSprop\", loss='categorical_crossentropy', metrics=[\"accuracy\"])"
   ]
  },
  {
   "cell_type": "code",
   "execution_count": 105,
   "metadata": {
    "scrolled": true
   },
   "outputs": [
    {
     "name": "stdout",
     "output_type": "stream",
     "text": [
      "Train on 2672 samples, validate on 2348 samples\n",
      "Epoch 1/100\n",
      "2672/2672 [==============================] - 22s 8ms/sample - loss: 0.0204 - accuracy: 0.9948 - val_loss: 0.7168 - val_accuracy: 0.8807\n",
      "Epoch 2/100\n",
      "2672/2672 [==============================] - 22s 8ms/sample - loss: 0.0219 - accuracy: 0.9944 - val_loss: 0.7439 - val_accuracy: 0.8850\n",
      "Epoch 3/100\n",
      "2672/2672 [==============================] - 22s 8ms/sample - loss: 0.0159 - accuracy: 0.9936 - val_loss: 0.7653 - val_accuracy: 0.8901\n",
      "Epoch 4/100\n",
      "2672/2672 [==============================] - 22s 8ms/sample - loss: 0.0168 - accuracy: 0.9948 - val_loss: 0.9715 - val_accuracy: 0.8914\n",
      "Epoch 5/100\n",
      "2672/2672 [==============================] - 22s 8ms/sample - loss: 0.0214 - accuracy: 0.9925 - val_loss: 0.7922 - val_accuracy: 0.8846\n",
      "Epoch 6/100\n",
      "2672/2672 [==============================] - 22s 8ms/sample - loss: 0.0169 - accuracy: 0.9940 - val_loss: 0.8779 - val_accuracy: 0.8837\n",
      "Epoch 7/100\n",
      "2672/2672 [==============================] - 22s 8ms/sample - loss: 0.0170 - accuracy: 0.9951 - val_loss: 0.8837 - val_accuracy: 0.8888\n",
      "Epoch 8/100\n",
      "2672/2672 [==============================] - 22s 8ms/sample - loss: 0.0227 - accuracy: 0.9929 - val_loss: 1.0026 - val_accuracy: 0.8782\n",
      "Epoch 9/100\n",
      "2672/2672 [==============================] - 22s 8ms/sample - loss: 0.0137 - accuracy: 0.9959 - val_loss: 0.9252 - val_accuracy: 0.8578\n",
      "Epoch 10/100\n",
      "2672/2672 [==============================] - 22s 8ms/sample - loss: 0.0101 - accuracy: 0.9970 - val_loss: 1.5474 - val_accuracy: 0.8445\n",
      "Epoch 11/100\n",
      "2672/2672 [==============================] - 22s 8ms/sample - loss: 0.0104 - accuracy: 0.9966 - val_loss: 1.0797 - val_accuracy: 0.8790\n",
      "Epoch 12/100\n",
      "2672/2672 [==============================] - 22s 8ms/sample - loss: 0.0054 - accuracy: 0.9989 - val_loss: 0.9858 - val_accuracy: 0.8735\n",
      "Epoch 13/100\n",
      "2672/2672 [==============================] - 22s 8ms/sample - loss: 0.0167 - accuracy: 0.9940 - val_loss: 0.8632 - val_accuracy: 0.8790\n",
      "Epoch 14/100\n",
      "2672/2672 [==============================] - 22s 8ms/sample - loss: 0.0166 - accuracy: 0.9940 - val_loss: 1.0395 - val_accuracy: 0.8778\n",
      "Epoch 15/100\n",
      "2672/2672 [==============================] - 22s 8ms/sample - loss: 0.0081 - accuracy: 0.9978 - val_loss: 0.7359 - val_accuracy: 0.8807\n",
      "Epoch 16/100\n",
      "2672/2672 [==============================] - 22s 8ms/sample - loss: 0.0092 - accuracy: 0.9970 - val_loss: 0.9959 - val_accuracy: 0.8731\n",
      "Epoch 17/100\n",
      "2672/2672 [==============================] - 22s 8ms/sample - loss: 0.0143 - accuracy: 0.9963 - val_loss: 1.0992 - val_accuracy: 0.8799\n",
      "Epoch 18/100\n",
      "2672/2672 [==============================] - 22s 8ms/sample - loss: 0.0161 - accuracy: 0.9963 - val_loss: 0.9961 - val_accuracy: 0.8884\n",
      "Epoch 19/100\n",
      "2672/2672 [==============================] - 22s 8ms/sample - loss: 0.0145 - accuracy: 0.9970 - val_loss: 0.9934 - val_accuracy: 0.8854\n",
      "Epoch 20/100\n",
      "2672/2672 [==============================] - 22s 8ms/sample - loss: 0.0125 - accuracy: 0.9966 - val_loss: 1.2511 - val_accuracy: 0.8718\n",
      "Epoch 21/100\n",
      "2672/2672 [==============================] - 22s 8ms/sample - loss: 0.0155 - accuracy: 0.9963 - val_loss: 1.1044 - val_accuracy: 0.8684\n",
      "Epoch 22/100\n",
      "2672/2672 [==============================] - 22s 8ms/sample - loss: 0.0120 - accuracy: 0.9951 - val_loss: 0.8727 - val_accuracy: 0.8769\n",
      "Epoch 23/100\n",
      "2672/2672 [==============================] - 22s 8ms/sample - loss: 0.0164 - accuracy: 0.9948 - val_loss: 0.9616 - val_accuracy: 0.8833\n",
      "Epoch 24/100\n",
      "2672/2672 [==============================] - 22s 8ms/sample - loss: 0.0100 - accuracy: 0.9974 - val_loss: 0.8584 - val_accuracy: 0.8880\n",
      "Epoch 25/100\n",
      "2672/2672 [==============================] - 22s 8ms/sample - loss: 0.0105 - accuracy: 0.9970 - val_loss: 1.1429 - val_accuracy: 0.8842\n",
      "Epoch 26/100\n",
      "2672/2672 [==============================] - 22s 8ms/sample - loss: 0.0078 - accuracy: 0.9970 - val_loss: 1.0474 - val_accuracy: 0.8897\n",
      "Epoch 27/100\n",
      "2672/2672 [==============================] - 22s 8ms/sample - loss: 0.0143 - accuracy: 0.9948 - val_loss: 0.9357 - val_accuracy: 0.8284\n",
      "Epoch 28/100\n",
      "2672/2672 [==============================] - 22s 8ms/sample - loss: 0.0120 - accuracy: 0.9966 - val_loss: 0.9069 - val_accuracy: 0.8957\n",
      "Epoch 29/100\n",
      "2672/2672 [==============================] - 22s 8ms/sample - loss: 0.0124 - accuracy: 0.9978 - val_loss: 0.9208 - val_accuracy: 0.8880\n",
      "Epoch 30/100\n",
      "2672/2672 [==============================] - 22s 8ms/sample - loss: 0.0102 - accuracy: 0.9963 - val_loss: 0.9698 - val_accuracy: 0.8893\n",
      "Epoch 31/100\n",
      "2672/2672 [==============================] - 22s 8ms/sample - loss: 0.0133 - accuracy: 0.9970 - val_loss: 0.9521 - val_accuracy: 0.8731\n",
      "Epoch 32/100\n",
      "2672/2672 [==============================] - 22s 8ms/sample - loss: 0.0178 - accuracy: 0.9940 - val_loss: 0.8276 - val_accuracy: 0.8816\n",
      "Epoch 33/100\n",
      "2672/2672 [==============================] - 22s 8ms/sample - loss: 0.0223 - accuracy: 0.9933 - val_loss: 1.0034 - val_accuracy: 0.8884\n",
      "Epoch 34/100\n",
      "2672/2672 [==============================] - 22s 8ms/sample - loss: 0.0165 - accuracy: 0.9936 - val_loss: 0.9948 - val_accuracy: 0.8731\n",
      "Epoch 35/100\n",
      "2672/2672 [==============================] - 22s 8ms/sample - loss: 0.0118 - accuracy: 0.9966 - val_loss: 0.8877 - val_accuracy: 0.8893\n",
      "Epoch 36/100\n",
      "2672/2672 [==============================] - 22s 8ms/sample - loss: 0.0105 - accuracy: 0.9970 - val_loss: 1.0250 - val_accuracy: 0.8837\n",
      "Epoch 37/100\n",
      "2672/2672 [==============================] - 22s 8ms/sample - loss: 0.0063 - accuracy: 0.9974 - val_loss: 1.0169 - val_accuracy: 0.8876\n",
      "Epoch 38/100\n",
      "2672/2672 [==============================] - 22s 8ms/sample - loss: 0.0109 - accuracy: 0.9981 - val_loss: 0.7700 - val_accuracy: 0.8799\n",
      "Epoch 39/100\n",
      "2672/2672 [==============================] - 22s 8ms/sample - loss: 0.0111 - accuracy: 0.9963 - val_loss: 0.8655 - val_accuracy: 0.8863\n",
      "Epoch 40/100\n",
      "2672/2672 [==============================] - 22s 8ms/sample - loss: 0.0105 - accuracy: 0.9959 - val_loss: 0.9922 - val_accuracy: 0.8940\n",
      "Epoch 41/100\n",
      "2672/2672 [==============================] - 22s 8ms/sample - loss: 0.0062 - accuracy: 0.9978 - val_loss: 1.2183 - val_accuracy: 0.8803\n",
      "Epoch 42/100\n",
      "2672/2672 [==============================] - 22s 8ms/sample - loss: 0.0081 - accuracy: 0.9985 - val_loss: 0.9618 - val_accuracy: 0.8701\n",
      "Epoch 43/100\n",
      "2672/2672 [==============================] - 22s 8ms/sample - loss: 0.0082 - accuracy: 0.9963 - val_loss: 1.4365 - val_accuracy: 0.8633\n",
      "Epoch 44/100\n",
      "2672/2672 [==============================] - 22s 8ms/sample - loss: 0.0096 - accuracy: 0.9963 - val_loss: 1.0709 - val_accuracy: 0.8876\n",
      "Epoch 45/100\n",
      "2672/2672 [==============================] - 22s 8ms/sample - loss: 0.0098 - accuracy: 0.9959 - val_loss: 1.5115 - val_accuracy: 0.7862\n",
      "Epoch 46/100\n",
      "2672/2672 [==============================] - 22s 8ms/sample - loss: 0.0081 - accuracy: 0.9981 - val_loss: 1.1266 - val_accuracy: 0.8833\n",
      "Epoch 47/100\n",
      "2672/2672 [==============================] - 22s 8ms/sample - loss: 0.0092 - accuracy: 0.9974 - val_loss: 1.1446 - val_accuracy: 0.8876\n",
      "Epoch 48/100\n",
      "2672/2672 [==============================] - 22s 8ms/sample - loss: 0.0069 - accuracy: 0.9974 - val_loss: 1.0472 - val_accuracy: 0.8935\n",
      "Epoch 49/100\n",
      "2672/2672 [==============================] - 22s 8ms/sample - loss: 0.0099 - accuracy: 0.9974 - val_loss: 0.9225 - val_accuracy: 0.8893\n",
      "Epoch 50/100\n",
      "2672/2672 [==============================] - 22s 8ms/sample - loss: 0.0130 - accuracy: 0.9951 - val_loss: 1.0538 - val_accuracy: 0.8876\n",
      "Epoch 51/100\n",
      "2672/2672 [==============================] - 22s 8ms/sample - loss: 0.0120 - accuracy: 0.9959 - val_loss: 1.1183 - val_accuracy: 0.8850\n",
      "Epoch 52/100\n",
      "2672/2672 [==============================] - 22s 8ms/sample - loss: 0.0173 - accuracy: 0.9955 - val_loss: 0.9733 - val_accuracy: 0.8854\n",
      "Epoch 53/100\n",
      "2672/2672 [==============================] - 22s 8ms/sample - loss: 0.0105 - accuracy: 0.9959 - val_loss: 1.1462 - val_accuracy: 0.8850\n",
      "Epoch 54/100\n",
      "2672/2672 [==============================] - 22s 8ms/sample - loss: 0.0087 - accuracy: 0.9978 - val_loss: 1.1046 - val_accuracy: 0.8935\n",
      "Epoch 55/100\n",
      "2672/2672 [==============================] - 22s 8ms/sample - loss: 0.0088 - accuracy: 0.9966 - val_loss: 0.9129 - val_accuracy: 0.8778\n"
     ]
    },
    {
     "name": "stdout",
     "output_type": "stream",
     "text": [
      "Epoch 56/100\n",
      "2672/2672 [==============================] - 22s 8ms/sample - loss: 0.0159 - accuracy: 0.9963 - val_loss: 1.2320 - val_accuracy: 0.8893\n",
      "Epoch 57/100\n",
      "2672/2672 [==============================] - 22s 8ms/sample - loss: 0.0120 - accuracy: 0.9959 - val_loss: 0.8574 - val_accuracy: 0.8842\n",
      "Epoch 58/100\n",
      "2672/2672 [==============================] - 22s 8ms/sample - loss: 0.0058 - accuracy: 0.9974 - val_loss: 1.1795 - val_accuracy: 0.8829\n",
      "Epoch 59/100\n",
      "2672/2672 [==============================] - 22s 8ms/sample - loss: 0.0113 - accuracy: 0.9963 - val_loss: 1.3038 - val_accuracy: 0.8829\n",
      "Epoch 60/100\n",
      "2672/2672 [==============================] - 22s 8ms/sample - loss: 0.0127 - accuracy: 0.9955 - val_loss: 1.1515 - val_accuracy: 0.8893\n",
      "Epoch 61/100\n",
      "2672/2672 [==============================] - 22s 8ms/sample - loss: 0.0113 - accuracy: 0.9963 - val_loss: 1.0702 - val_accuracy: 0.8871\n",
      "Epoch 62/100\n",
      "2672/2672 [==============================] - 22s 8ms/sample - loss: 0.0096 - accuracy: 0.9974 - val_loss: 1.1765 - val_accuracy: 0.8918\n",
      "Epoch 63/100\n",
      "2672/2672 [==============================] - 22s 8ms/sample - loss: 0.0098 - accuracy: 0.9985 - val_loss: 1.1717 - val_accuracy: 0.8850\n",
      "Epoch 64/100\n",
      "2672/2672 [==============================] - 22s 8ms/sample - loss: 0.0146 - accuracy: 0.9959 - val_loss: 1.1437 - val_accuracy: 0.8859\n",
      "Epoch 65/100\n",
      "2672/2672 [==============================] - 22s 8ms/sample - loss: 0.0155 - accuracy: 0.9966 - val_loss: 1.1249 - val_accuracy: 0.8914\n",
      "Epoch 66/100\n",
      "2672/2672 [==============================] - 22s 8ms/sample - loss: 0.0162 - accuracy: 0.9955 - val_loss: 0.9777 - val_accuracy: 0.8888\n",
      "Epoch 67/100\n",
      "2672/2672 [==============================] - 22s 8ms/sample - loss: 0.0277 - accuracy: 0.9929 - val_loss: 1.1332 - val_accuracy: 0.8897\n",
      "Epoch 68/100\n",
      "2672/2672 [==============================] - 22s 8ms/sample - loss: 0.0100 - accuracy: 0.9974 - val_loss: 1.1161 - val_accuracy: 0.8884\n",
      "Epoch 69/100\n",
      "2672/2672 [==============================] - 22s 8ms/sample - loss: 0.0112 - accuracy: 0.9948 - val_loss: 1.1991 - val_accuracy: 0.8790\n",
      "Epoch 70/100\n",
      "2672/2672 [==============================] - 22s 8ms/sample - loss: 0.0120 - accuracy: 0.9955 - val_loss: 1.1622 - val_accuracy: 0.8944\n",
      "Epoch 71/100\n",
      "2672/2672 [==============================] - 22s 8ms/sample - loss: 0.0114 - accuracy: 0.9959 - val_loss: 1.0709 - val_accuracy: 0.8893\n",
      "Epoch 72/100\n",
      "2672/2672 [==============================] - 22s 8ms/sample - loss: 0.0084 - accuracy: 0.9985 - val_loss: 1.2661 - val_accuracy: 0.8854\n",
      "Epoch 73/100\n",
      "2672/2672 [==============================] - 22s 8ms/sample - loss: 0.0117 - accuracy: 0.9970 - val_loss: 1.1633 - val_accuracy: 0.8833\n",
      "Epoch 74/100\n",
      "2672/2672 [==============================] - 22s 8ms/sample - loss: 0.0024 - accuracy: 0.9996 - val_loss: 1.1141 - val_accuracy: 0.8880\n",
      "Epoch 75/100\n",
      "2672/2672 [==============================] - 22s 8ms/sample - loss: 0.0079 - accuracy: 0.9978 - val_loss: 1.1163 - val_accuracy: 0.8893\n",
      "Epoch 76/100\n",
      "2672/2672 [==============================] - 22s 8ms/sample - loss: 0.0153 - accuracy: 0.9944 - val_loss: 1.0377 - val_accuracy: 0.8850\n",
      "Epoch 77/100\n",
      "2672/2672 [==============================] - 22s 8ms/sample - loss: 0.0123 - accuracy: 0.9959 - val_loss: 1.2078 - val_accuracy: 0.8735\n",
      "Epoch 78/100\n",
      "2656/2672 [============================>.] - ETA: 0s - loss: 0.0073 - accuracy: 0.9970Restoring model weights from the end of the best epoch.\n",
      "2672/2672 [==============================] - 22s 8ms/sample - loss: 0.0073 - accuracy: 0.9970 - val_loss: 1.3060 - val_accuracy: 0.8765\n",
      "Epoch 00078: early stopping\n"
     ]
    }
   ],
   "source": [
    "history1 = model1.fit(x_train, y_train, \n",
    "                      batch_size=BATCH_SIZE, \n",
    "                      shuffle=True, \n",
    "                      verbose=1, \n",
    "                      validation_data=(x_test, y_test),\n",
    "                      epochs=EPOCHS, callbacks=[earlystop])"
   ]
  },
  {
   "cell_type": "code",
   "execution_count": 106,
   "metadata": {},
   "outputs": [
    {
     "name": "stdout",
     "output_type": "stream",
     "text": [
      "dict_keys(['loss', 'accuracy', 'val_loss', 'val_accuracy'])\n"
     ]
    },
    {
     "data": {
      "image/png": "[encoded data removed]",
      "text/plain": [
       "<Figure size 432x288 with 1 Axes>"
      ]
     },
     "metadata": {
      "needs_background": "light"
     },
     "output_type": "display_data"
    },
    {
     "data": {
      "image/png": "[encoded data removed]",
      "text/plain": [
       "<Figure size 432x288 with 1 Axes>"
      ]
     },
     "metadata": {
      "needs_background": "light"
     },
     "output_type": "display_data"
    }
   ],
   "source": [
    "print(history1.history.keys())\n",
    "\n",
    "plt.plot(history1.history['accuracy'])\n",
    "plt.plot(history1.history['val_accuracy'])\n",
    "plt.title('model accuracy')\n",
    "plt.ylabel('accuracy')\n",
    "plt.xlabel('epoch')\n",
    "plt.legend(['train', 'test'], loc='upper left')\n",
    "plt.show()\n",
    "\n",
    "plt.plot(history1.history['loss'])\n",
    "plt.plot(history1.history['val_loss'])\n",
    "plt.title('model loss')\n",
    "plt.ylabel('loss')\n",
    "plt.xlabel('epoch')\n",
    "plt.legend(['train', 'test'], loc='upper left')\n",
    "plt.show()"
   ]
  },
  {
   "cell_type": "code",
   "execution_count": null,
   "metadata": {},
   "outputs": [],
   "source": []
  }
 ],
 "metadata": {
  "kernelspec": {
   "display_name": "tf_gpu",
   "language": "python",
   "name": "tf_gpu"
  },
  "language_info": {
   "codemirror_mode": {
    "name": "ipython",
    "version": 3
   },
   "file_extension": ".py",
   "mimetype": "text/x-python",
   "name": "python",
   "nbconvert_exporter": "python",
   "pygments_lexer": "ipython3",
   "version": "3.7.5"
  }
 },
 "nbformat": 4,
 "nbformat_minor": 2
}
